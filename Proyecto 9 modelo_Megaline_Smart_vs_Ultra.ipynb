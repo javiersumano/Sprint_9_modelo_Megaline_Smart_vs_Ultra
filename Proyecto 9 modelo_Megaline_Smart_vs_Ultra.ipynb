{
 "cells": [
  {
   "cell_type": "markdown",
   "metadata": {},
   "source": [
    "# MODELO PARA LA CLASIFICACIÓN DE PLANES PARA LA COMPAÑÍA MEGALINE. "
   ]
  },
  {
   "cell_type": "markdown",
   "metadata": {},
   "source": [
    "# DESCRIPCIÓN\n",
    "\n",
    "Megaline, un operador móvil, busca optimizar la asignación de planes para sus clientes, ya que una gran cantidad sigue utilizando planes heredados. El objetivo de la empresa es desarrollar un modelo que analice el comportamiento de sus suscriptores y recomiende uno de sus nuevos planes: Smart o Ultra.\n",
    "\n",
    "Se cuenta con datos de clientes que ya han migrado a estos planes, los cuales provienen del proyecto de análisis estadístico de datos. La tarea consiste en desarrollar un modelo de clasificación que sea capaz de recomendar el plan adecuado para cada cliente.\n",
    "\n",
    "El reto es crear un modelo con la mayor precisión posible, con un umbral de exactitud mínima de 0.75. Se utilizará el dataset proporcionado para validar y ajustar el modelo, habiendo completado previamente el proceso de limpieza y preparación de los datos."
   ]
  },
  {
   "cell_type": "markdown",
   "metadata": {},
   "source": [
    "# 1 Dirección de datos.\n",
    "\n",
    " En este proyecto se trabajara con el archivo de datos `datasets/users_behavior.csv`. En la cual contiene información del comportamiento mensual sobre un usuario. La información dada es la siguiente:\n",
    " \n",
    "- `'сalls'` : Son el número de llamadas. \n",
    "- `'minutes'`: Duración total de la llamada en minutos.\n",
    "- `'messages'`: Número de mensajes de texto. \n",
    "- `'mb_used'`: Tráfico de Internet utilizado en MB,\n",
    "- `'is_ultra'`: Plan para el mes actual (Ultra - 1, Smart - 0)"
   ]
  },
  {
   "cell_type": "markdown",
   "metadata": {},
   "source": [
    "# 1.1 Inicialización "
   ]
  },
  {
   "cell_type": "code",
   "execution_count": 1,
   "metadata": {},
   "outputs": [],
   "source": [
    "# Cargar todas las librerías a usar en el proyecto. \n",
    "import pandas as pd\n",
    "import numpy as np\n",
    "import matplotlib.pyplot as plt\n",
    "import seaborn as sns\n",
    "\n",
    " # Importar la función train_test_split desde la librería sklearn \n",
    "from sklearn.model_selection import train_test_split\n",
    "\n",
    "# Importar la función del Ajuste de hiperparámetro \n",
    "from sklearn.tree import DecisionTreeClassifier\n",
    "from sklearn.metrics import accuracy_score\n",
    "\n",
    "# Importar la función del Bosque aleatorio \n",
    "from sklearn.ensemble import RandomForestClassifier\n",
    "\n",
    "# Importar la función de la Regresión Logística \n",
    "from sklearn.linear_model import LogisticRegression\n",
    "\n",
    "#Importar la función de la Regresión Líneal \n",
    "from sklearn.linear_model import LinearRegression\n",
    "\n",
    "# Importa la función de cálculo del EMC desde la librería scikit-learn\n",
    "from sklearn.metrics import mean_squared_error\n",
    "\n",
    "\n",
    "#Importar la función Dummy para el módelo ingenuo https://scikit-learn.org/stable/api/sklearn.dummy.html\n",
    "from sklearn.dummy import DummyClassifier "
   ]
  },
  {
   "cell_type": "markdown",
   "metadata": {},
   "source": [
    "# 1.2 Cargar los datos. "
   ]
  },
  {
   "cell_type": "code",
   "execution_count": 2,
   "metadata": {},
   "outputs": [],
   "source": [
    "# Carga los archivos\n",
    "user_behavoir = pd.read_csv('/datasets/users_behavior.csv')"
   ]
  },
  {
   "cell_type": "markdown",
   "metadata": {},
   "source": [
    "# 1.3 Análisis de los datos"
   ]
  },
  {
   "cell_type": "code",
   "execution_count": 3,
   "metadata": {},
   "outputs": [
    {
     "name": "stdout",
     "output_type": "stream",
     "text": [
      "<class 'pandas.core.frame.DataFrame'>\n",
      "RangeIndex: 3214 entries, 0 to 3213\n",
      "Data columns (total 5 columns):\n",
      " #   Column    Non-Null Count  Dtype  \n",
      "---  ------    --------------  -----  \n",
      " 0   calls     3214 non-null   float64\n",
      " 1   minutes   3214 non-null   float64\n",
      " 2   messages  3214 non-null   float64\n",
      " 3   mb_used   3214 non-null   float64\n",
      " 4   is_ultra  3214 non-null   int64  \n",
      "dtypes: float64(4), int64(1)\n",
      "memory usage: 125.7 KB\n"
     ]
    },
    {
     "data": {
      "text/html": [
       "<div>\n",
       "<style scoped>\n",
       "    .dataframe tbody tr th:only-of-type {\n",
       "        vertical-align: middle;\n",
       "    }\n",
       "\n",
       "    .dataframe tbody tr th {\n",
       "        vertical-align: top;\n",
       "    }\n",
       "\n",
       "    .dataframe thead th {\n",
       "        text-align: right;\n",
       "    }\n",
       "</style>\n",
       "<table border=\"1\" class=\"dataframe\">\n",
       "  <thead>\n",
       "    <tr style=\"text-align: right;\">\n",
       "      <th></th>\n",
       "      <th>calls</th>\n",
       "      <th>minutes</th>\n",
       "      <th>messages</th>\n",
       "      <th>mb_used</th>\n",
       "      <th>is_ultra</th>\n",
       "    </tr>\n",
       "  </thead>\n",
       "  <tbody>\n",
       "    <tr>\n",
       "      <th>count</th>\n",
       "      <td>3214.000000</td>\n",
       "      <td>3214.000000</td>\n",
       "      <td>3214.000000</td>\n",
       "      <td>3214.000000</td>\n",
       "      <td>3214.000000</td>\n",
       "    </tr>\n",
       "    <tr>\n",
       "      <th>mean</th>\n",
       "      <td>63.038892</td>\n",
       "      <td>438.208787</td>\n",
       "      <td>38.281269</td>\n",
       "      <td>17207.673836</td>\n",
       "      <td>0.306472</td>\n",
       "    </tr>\n",
       "    <tr>\n",
       "      <th>std</th>\n",
       "      <td>33.236368</td>\n",
       "      <td>234.569872</td>\n",
       "      <td>36.148326</td>\n",
       "      <td>7570.968246</td>\n",
       "      <td>0.461100</td>\n",
       "    </tr>\n",
       "    <tr>\n",
       "      <th>min</th>\n",
       "      <td>0.000000</td>\n",
       "      <td>0.000000</td>\n",
       "      <td>0.000000</td>\n",
       "      <td>0.000000</td>\n",
       "      <td>0.000000</td>\n",
       "    </tr>\n",
       "    <tr>\n",
       "      <th>25%</th>\n",
       "      <td>40.000000</td>\n",
       "      <td>274.575000</td>\n",
       "      <td>9.000000</td>\n",
       "      <td>12491.902500</td>\n",
       "      <td>0.000000</td>\n",
       "    </tr>\n",
       "    <tr>\n",
       "      <th>50%</th>\n",
       "      <td>62.000000</td>\n",
       "      <td>430.600000</td>\n",
       "      <td>30.000000</td>\n",
       "      <td>16943.235000</td>\n",
       "      <td>0.000000</td>\n",
       "    </tr>\n",
       "    <tr>\n",
       "      <th>75%</th>\n",
       "      <td>82.000000</td>\n",
       "      <td>571.927500</td>\n",
       "      <td>57.000000</td>\n",
       "      <td>21424.700000</td>\n",
       "      <td>1.000000</td>\n",
       "    </tr>\n",
       "    <tr>\n",
       "      <th>max</th>\n",
       "      <td>244.000000</td>\n",
       "      <td>1632.060000</td>\n",
       "      <td>224.000000</td>\n",
       "      <td>49745.730000</td>\n",
       "      <td>1.000000</td>\n",
       "    </tr>\n",
       "  </tbody>\n",
       "</table>\n",
       "</div>"
      ],
      "text/plain": [
       "             calls      minutes     messages       mb_used     is_ultra\n",
       "count  3214.000000  3214.000000  3214.000000   3214.000000  3214.000000\n",
       "mean     63.038892   438.208787    38.281269  17207.673836     0.306472\n",
       "std      33.236368   234.569872    36.148326   7570.968246     0.461100\n",
       "min       0.000000     0.000000     0.000000      0.000000     0.000000\n",
       "25%      40.000000   274.575000     9.000000  12491.902500     0.000000\n",
       "50%      62.000000   430.600000    30.000000  16943.235000     0.000000\n",
       "75%      82.000000   571.927500    57.000000  21424.700000     1.000000\n",
       "max     244.000000  1632.060000   224.000000  49745.730000     1.000000"
      ]
     },
     "execution_count": 3,
     "metadata": {},
     "output_type": "execute_result"
    }
   ],
   "source": [
    "#Obtener la inofrmación de las bases de datos  con la cual se esta trabajando \n",
    "user_behavoir.info()\n",
    "user_behavoir.describe()"
   ]
  },
  {
   "cell_type": "code",
   "execution_count": 4,
   "metadata": {},
   "outputs": [
    {
     "data": {
      "text/html": [
       "<div>\n",
       "<style scoped>\n",
       "    .dataframe tbody tr th:only-of-type {\n",
       "        vertical-align: middle;\n",
       "    }\n",
       "\n",
       "    .dataframe tbody tr th {\n",
       "        vertical-align: top;\n",
       "    }\n",
       "\n",
       "    .dataframe thead th {\n",
       "        text-align: right;\n",
       "    }\n",
       "</style>\n",
       "<table border=\"1\" class=\"dataframe\">\n",
       "  <thead>\n",
       "    <tr style=\"text-align: right;\">\n",
       "      <th></th>\n",
       "      <th>calls</th>\n",
       "      <th>minutes</th>\n",
       "      <th>messages</th>\n",
       "      <th>mb_used</th>\n",
       "      <th>is_ultra</th>\n",
       "    </tr>\n",
       "  </thead>\n",
       "  <tbody>\n",
       "    <tr>\n",
       "      <th>0</th>\n",
       "      <td>40.0</td>\n",
       "      <td>311.90</td>\n",
       "      <td>83.0</td>\n",
       "      <td>19915.42</td>\n",
       "      <td>0</td>\n",
       "    </tr>\n",
       "    <tr>\n",
       "      <th>1</th>\n",
       "      <td>85.0</td>\n",
       "      <td>516.75</td>\n",
       "      <td>56.0</td>\n",
       "      <td>22696.96</td>\n",
       "      <td>0</td>\n",
       "    </tr>\n",
       "    <tr>\n",
       "      <th>2</th>\n",
       "      <td>77.0</td>\n",
       "      <td>467.66</td>\n",
       "      <td>86.0</td>\n",
       "      <td>21060.45</td>\n",
       "      <td>0</td>\n",
       "    </tr>\n",
       "    <tr>\n",
       "      <th>3</th>\n",
       "      <td>106.0</td>\n",
       "      <td>745.53</td>\n",
       "      <td>81.0</td>\n",
       "      <td>8437.39</td>\n",
       "      <td>1</td>\n",
       "    </tr>\n",
       "    <tr>\n",
       "      <th>4</th>\n",
       "      <td>66.0</td>\n",
       "      <td>418.74</td>\n",
       "      <td>1.0</td>\n",
       "      <td>14502.75</td>\n",
       "      <td>0</td>\n",
       "    </tr>\n",
       "    <tr>\n",
       "      <th>5</th>\n",
       "      <td>58.0</td>\n",
       "      <td>344.56</td>\n",
       "      <td>21.0</td>\n",
       "      <td>15823.37</td>\n",
       "      <td>0</td>\n",
       "    </tr>\n",
       "    <tr>\n",
       "      <th>6</th>\n",
       "      <td>57.0</td>\n",
       "      <td>431.64</td>\n",
       "      <td>20.0</td>\n",
       "      <td>3738.90</td>\n",
       "      <td>1</td>\n",
       "    </tr>\n",
       "    <tr>\n",
       "      <th>7</th>\n",
       "      <td>15.0</td>\n",
       "      <td>132.40</td>\n",
       "      <td>6.0</td>\n",
       "      <td>21911.60</td>\n",
       "      <td>0</td>\n",
       "    </tr>\n",
       "    <tr>\n",
       "      <th>8</th>\n",
       "      <td>7.0</td>\n",
       "      <td>43.39</td>\n",
       "      <td>3.0</td>\n",
       "      <td>2538.67</td>\n",
       "      <td>1</td>\n",
       "    </tr>\n",
       "    <tr>\n",
       "      <th>9</th>\n",
       "      <td>90.0</td>\n",
       "      <td>665.41</td>\n",
       "      <td>38.0</td>\n",
       "      <td>17358.61</td>\n",
       "      <td>0</td>\n",
       "    </tr>\n",
       "    <tr>\n",
       "      <th>10</th>\n",
       "      <td>82.0</td>\n",
       "      <td>560.51</td>\n",
       "      <td>20.0</td>\n",
       "      <td>9619.53</td>\n",
       "      <td>1</td>\n",
       "    </tr>\n",
       "    <tr>\n",
       "      <th>11</th>\n",
       "      <td>45.0</td>\n",
       "      <td>344.32</td>\n",
       "      <td>13.0</td>\n",
       "      <td>19898.81</td>\n",
       "      <td>0</td>\n",
       "    </tr>\n",
       "    <tr>\n",
       "      <th>12</th>\n",
       "      <td>51.0</td>\n",
       "      <td>437.13</td>\n",
       "      <td>61.0</td>\n",
       "      <td>21523.58</td>\n",
       "      <td>0</td>\n",
       "    </tr>\n",
       "    <tr>\n",
       "      <th>13</th>\n",
       "      <td>56.0</td>\n",
       "      <td>433.07</td>\n",
       "      <td>16.0</td>\n",
       "      <td>16702.36</td>\n",
       "      <td>0</td>\n",
       "    </tr>\n",
       "    <tr>\n",
       "      <th>14</th>\n",
       "      <td>108.0</td>\n",
       "      <td>587.90</td>\n",
       "      <td>0.0</td>\n",
       "      <td>14406.50</td>\n",
       "      <td>1</td>\n",
       "    </tr>\n",
       "    <tr>\n",
       "      <th>15</th>\n",
       "      <td>6.0</td>\n",
       "      <td>22.13</td>\n",
       "      <td>0.0</td>\n",
       "      <td>2710.09</td>\n",
       "      <td>0</td>\n",
       "    </tr>\n",
       "    <tr>\n",
       "      <th>16</th>\n",
       "      <td>2.0</td>\n",
       "      <td>18.73</td>\n",
       "      <td>0.0</td>\n",
       "      <td>588.89</td>\n",
       "      <td>0</td>\n",
       "    </tr>\n",
       "    <tr>\n",
       "      <th>17</th>\n",
       "      <td>26.0</td>\n",
       "      <td>163.62</td>\n",
       "      <td>4.0</td>\n",
       "      <td>16870.34</td>\n",
       "      <td>0</td>\n",
       "    </tr>\n",
       "    <tr>\n",
       "      <th>18</th>\n",
       "      <td>79.0</td>\n",
       "      <td>532.62</td>\n",
       "      <td>90.0</td>\n",
       "      <td>19908.31</td>\n",
       "      <td>0</td>\n",
       "    </tr>\n",
       "    <tr>\n",
       "      <th>19</th>\n",
       "      <td>49.0</td>\n",
       "      <td>341.67</td>\n",
       "      <td>81.0</td>\n",
       "      <td>11770.28</td>\n",
       "      <td>1</td>\n",
       "    </tr>\n",
       "    <tr>\n",
       "      <th>20</th>\n",
       "      <td>93.0</td>\n",
       "      <td>691.37</td>\n",
       "      <td>31.0</td>\n",
       "      <td>25950.28</td>\n",
       "      <td>1</td>\n",
       "    </tr>\n",
       "    <tr>\n",
       "      <th>21</th>\n",
       "      <td>56.0</td>\n",
       "      <td>411.46</td>\n",
       "      <td>97.0</td>\n",
       "      <td>15393.91</td>\n",
       "      <td>0</td>\n",
       "    </tr>\n",
       "    <tr>\n",
       "      <th>22</th>\n",
       "      <td>48.0</td>\n",
       "      <td>351.60</td>\n",
       "      <td>66.0</td>\n",
       "      <td>16469.90</td>\n",
       "      <td>1</td>\n",
       "    </tr>\n",
       "    <tr>\n",
       "      <th>23</th>\n",
       "      <td>11.0</td>\n",
       "      <td>96.05</td>\n",
       "      <td>19.0</td>\n",
       "      <td>2305.74</td>\n",
       "      <td>0</td>\n",
       "    </tr>\n",
       "    <tr>\n",
       "      <th>24</th>\n",
       "      <td>56.0</td>\n",
       "      <td>360.30</td>\n",
       "      <td>30.0</td>\n",
       "      <td>13560.15</td>\n",
       "      <td>0</td>\n",
       "    </tr>\n",
       "  </tbody>\n",
       "</table>\n",
       "</div>"
      ],
      "text/plain": [
       "    calls  minutes  messages   mb_used  is_ultra\n",
       "0    40.0   311.90      83.0  19915.42         0\n",
       "1    85.0   516.75      56.0  22696.96         0\n",
       "2    77.0   467.66      86.0  21060.45         0\n",
       "3   106.0   745.53      81.0   8437.39         1\n",
       "4    66.0   418.74       1.0  14502.75         0\n",
       "5    58.0   344.56      21.0  15823.37         0\n",
       "6    57.0   431.64      20.0   3738.90         1\n",
       "7    15.0   132.40       6.0  21911.60         0\n",
       "8     7.0    43.39       3.0   2538.67         1\n",
       "9    90.0   665.41      38.0  17358.61         0\n",
       "10   82.0   560.51      20.0   9619.53         1\n",
       "11   45.0   344.32      13.0  19898.81         0\n",
       "12   51.0   437.13      61.0  21523.58         0\n",
       "13   56.0   433.07      16.0  16702.36         0\n",
       "14  108.0   587.90       0.0  14406.50         1\n",
       "15    6.0    22.13       0.0   2710.09         0\n",
       "16    2.0    18.73       0.0    588.89         0\n",
       "17   26.0   163.62       4.0  16870.34         0\n",
       "18   79.0   532.62      90.0  19908.31         0\n",
       "19   49.0   341.67      81.0  11770.28         1\n",
       "20   93.0   691.37      31.0  25950.28         1\n",
       "21   56.0   411.46      97.0  15393.91         0\n",
       "22   48.0   351.60      66.0  16469.90         1\n",
       "23   11.0    96.05      19.0   2305.74         0\n",
       "24   56.0   360.30      30.0  13560.15         0"
      ]
     },
     "execution_count": 4,
     "metadata": {},
     "output_type": "execute_result"
    }
   ],
   "source": [
    "# Obtener las 10 primeras filas de las bases de datos \n",
    "user_behavoir.head(25)"
   ]
  },
  {
   "cell_type": "markdown",
   "metadata": {},
   "source": [
    "# 1.4 Balances de clases de variable objetivo"
   ]
  },
  {
   "cell_type": "code",
   "execution_count": 5,
   "metadata": {
    "scrolled": true
   },
   "outputs": [
    {
     "name": "stdout",
     "output_type": "stream",
     "text": [
      "0    2229\n",
      "1     985\n",
      "Name: is_ultra, dtype: int64\n"
     ]
    },
    {
     "data": {
      "image/png": "[encoded data removed]",
      "text/plain": [
       "<Figure size 640x480 with 1 Axes>"
      ]
     },
     "metadata": {},
     "output_type": "display_data"
    }
   ],
   "source": [
    "# Primer paso: Visualizar el balance de los datos. \n",
    "balance = user_behavoir['is_ultra'].value_counts()\n",
    "print(balance)\n",
    "\n",
    "#Segundo paso: Realizar gráfica de barras para visualizar el balance de clases\n",
    "sns.countplot(x='is_ultra', data=user_behavoir)\n",
    "plt.title('Balance de clases en la variable objetivo (is_ultra)')\n",
    "plt.show()"
   ]
  },
  {
   "cell_type": "markdown",
   "metadata": {},
   "source": [
    "Podemos observar que la mayoría de los usuarios está suscrita al plan Smart (representado por la clase 0), mientras que una minoría, alrededor del 30.65%, tiene el plan Ultra (clase 1). Este desequilibrio podría estar relacionado con los beneficios y servicios que el plan Smart ofrece, los cuales podrían ser más atractivos o asequibles para la mayoría de los consumidores"
   ]
  },
  {
   "cell_type": "markdown",
   "metadata": {},
   "source": [
    "# 1.5 Distribución de los datos. "
   ]
  },
  {
   "cell_type": "code",
   "execution_count": 6,
   "metadata": {},
   "outputs": [
    {
     "data": {
      "image/png": "[encoded data removed]",
      "text/plain": [
       "<Figure size 1000x800 with 6 Axes>"
      ]
     },
     "metadata": {},
     "output_type": "display_data"
    },
    {
     "name": "stdout",
     "output_type": "stream",
     "text": [
      "\n",
      "\n"
     ]
    },
    {
     "data": {
      "image/png": "[encoded data removed]",
      "text/plain": [
       "<Figure size 640x480 with 1 Axes>"
      ]
     },
     "metadata": {},
     "output_type": "display_data"
    },
    {
     "data": {
      "image/png": "[encoded data removed]",
      "text/plain": [
       "<Figure size 640x480 with 1 Axes>"
      ]
     },
     "metadata": {},
     "output_type": "display_data"
    },
    {
     "data": {
      "image/png": "[encoded data removed]",
      "text/plain": [
       "<Figure size 640x480 with 1 Axes>"
      ]
     },
     "metadata": {},
     "output_type": "display_data"
    },
    {
     "data": {
      "image/png": "[encoded data removed]",
      "text/plain": [
       "<Figure size 640x480 with 1 Axes>"
      ]
     },
     "metadata": {},
     "output_type": "display_data"
    }
   ],
   "source": [
    "#Primer paso: Crear histogramas para todas las variables\n",
    "user_behavoir.hist(bins=20, figsize=(10, 8))\n",
    "plt.tight_layout()\n",
    "plt.show()\n",
    "print()\n",
    "print()\n",
    "#Segundo paso: Crear una distribución más detallada \n",
    "for column in user_behavoir.columns[:-1]:  # Omitimos 'is_ultra' que es la variable objetivo\n",
    "    sns.histplot(user_behavoir[column], kde=True)\n",
    "    plt.title(f'Distribución de {column}')\n",
    "    plt.show()"
   ]
  },
  {
   "cell_type": "markdown",
   "metadata": {},
   "source": [
    "Calls (llamadas): La mayoría de los usuarios realizan entre 0 y 100 llamadas, con un pico alrededor de 50. Hay una disminución constante después de este punto, lo que sugiere que muy pocos usuarios realizan muchas llamadas.\n",
    "\n",
    "Minutes (minutos): La distribución es similar a la de calls, centrada alrededor de 400-600 minutos. La mayoría de los usuarios consumen menos de 800 minutos, con una caída notable después de este punto.\n",
    "\n",
    "Messages (mensajes): La mayoría de los usuarios envían pocos mensajes (entre 0 y 50), y la distribución disminuye rápidamente, indicando que los mensajes no son un uso frecuente.\n",
    "\n",
    "MB_used (MB usados): Los datos utilizados muestran una distribución normal centrada alrededor de 20,000 MB, con algunos usuarios llegando hasta los 50,000 MB. Esto indica un uso considerable de datos móviles.\n",
    "\n",
    "Is_ultra (planes Ultra): La mayoría de los usuarios no tienen el plan Smart (0), con una minoría significativa que sí lo tiene (1). Esto indica que el plan Ultra no es el más común entre los usuarios."
   ]
  },
  {
   "cell_type": "markdown",
   "metadata": {},
   "source": [
    "# 1.6 Verificación de los datos."
   ]
  },
  {
   "cell_type": "code",
   "execution_count": 7,
   "metadata": {},
   "outputs": [
    {
     "name": "stdout",
     "output_type": "stream",
     "text": [
      "Se encontro que hay: 0 duplicados en el DataFrame de User Behavoir\n"
     ]
    }
   ],
   "source": [
    "#Verificación de que no haya duplicado. \n",
    "\n",
    "duplicados= user_behavoir.duplicated().sum()\n",
    "print(f'Se encontro que hay: {duplicados} duplicados en el DataFrame de User Behavoir')"
   ]
  },
  {
   "cell_type": "code",
   "execution_count": 8,
   "metadata": {},
   "outputs": [
    {
     "name": "stdout",
     "output_type": "stream",
     "text": [
      "calls       0\n",
      "minutes     0\n",
      "messages    0\n",
      "mb_used     0\n",
      "is_ultra    0\n",
      "dtype: int64\n"
     ]
    }
   ],
   "source": [
    "#comprobar los valores  ausentes \n",
    "user_behavoir_mis = user_behavoir.isna().sum()\n",
    "print(user_behavoir_mis)"
   ]
  },
  {
   "cell_type": "markdown",
   "metadata": {},
   "source": [
    "Se realizó este análisis para comprobar de que no estemos trabajando con datos duplicados o ausentes. Al comprobar que no hay ninguna discrepancía con los datos, se puede seguir con lo siguiente. "
   ]
  },
  {
   "cell_type": "markdown",
   "metadata": {},
   "source": [
    "# 2 Modelos"
   ]
  },
  {
   "cell_type": "markdown",
   "metadata": {},
   "source": [
    "# 2.1 BOSQUE ALEATORIO "
   ]
  },
  {
   "cell_type": "code",
   "execution_count": 9,
   "metadata": {},
   "outputs": [
    {
     "name": "stdout",
     "output_type": "stream",
     "text": [
      "Exactitud en el conjunto de validación: 0.7801556420233463\n",
      "El modelo cumple con el umbral de 0.75 en validación: 0.7801556420233463\n",
      "Exactitud en el conjunto de prueba: 0.8160621761658031\n",
      "El modelo cumple con el umbral de 0.75 en prueba: 0.8160621761658031\n",
      "Exactitud del modelo ingenuo en el conjunto de validación: 0.6498054474708171\n",
      "Exactitud del modelo ingenuo en el conjunto de prueba: 0.7137305699481865\n"
     ]
    }
   ],
   "source": [
    "# Dividir el dataset en 60% entrenamiento, 20% validación y 20% prueba\n",
    "train_data, temp_data = train_test_split(user_behavoir, test_size=0.4, random_state=54321)\n",
    "valid_data, test_data = train_test_split(temp_data, test_size=0.6, random_state=54321)\n",
    "\n",
    "# Separar características y etiquetas\n",
    "features_train = train_data.drop(['is_ultra'], axis=1)\n",
    "target_train = train_data['is_ultra']\n",
    "features_valid = valid_data.drop(['is_ultra'], axis=1)\n",
    "target_valid = valid_data['is_ultra']\n",
    "features_test = test_data.drop(['is_ultra'], axis=1)\n",
    "target_test = test_data['is_ultra']\n",
    "\n",
    "# Entrenar el mejor modelo \n",
    "best_model = RandomForestClassifier(n_estimators=40, random_state=54321)\n",
    "best_model.fit(features_train, target_train)\n",
    "\n",
    "# Evaluar en el conjunto de validación\n",
    "valid_score = best_model.score(features_valid, target_valid)\n",
    "print(f\"Exactitud en el conjunto de validación: {valid_score}\")\n",
    "\n",
    "# Verificar si la exactitud en validación es mayor o igual a 0.75\n",
    "if valid_score >= 0.75:\n",
    "    print(f\"El modelo cumple con el umbral de 0.75 en validación: {valid_score}\")\n",
    "else:\n",
    "    print(f\"El modelo no cumple con el umbral en validación. Exactitud: {valid_score}\")\n",
    "\n",
    "# Evaluar en el conjunto de prueba\n",
    "test_score = best_model.score(features_test, target_test)\n",
    "print(f\"Exactitud en el conjunto de prueba: {test_score}\")\n",
    "\n",
    "# Verificar si la exactitud en el conjunto de prueba es mayor o igual a 0.75\n",
    "if test_score >= 0.75:\n",
    "    print(f\"El modelo cumple con el umbral de 0.75 en prueba: {test_score}\")\n",
    "else:\n",
    "    print(f\"El modelo no cumple con el umbral en prueba. Exactitud: {test_score}\")\n",
    "\n",
    "# Crear un modelo ingenuo que predice la clase mayoritaria\n",
    "dummy_model = DummyClassifier(strategy=\"most_frequent\", random_state=54321)\n",
    "dummy_model.fit(features_train, target_train)\n",
    "\n",
    "# Evaluar el modelo en el conjunto de validación\n",
    "dummy_valid_score = dummy_model.score(features_valid, target_valid)\n",
    "print(f\"Exactitud del modelo ingenuo en el conjunto de validación: {dummy_valid_score}\")\n",
    "\n",
    "# Evaluar el modelo en el conjunto de prueba\n",
    "dummy_test_score = dummy_model.score(features_test, target_test)\n",
    "print(f\"Exactitud del modelo ingenuo en el conjunto de prueba: {dummy_test_score}\")"
   ]
  },
  {
   "cell_type": "markdown",
   "metadata": {},
   "source": [
    "# 2.2 REGRESIÓN LOGÍSTICA "
   ]
  },
  {
   "cell_type": "code",
   "execution_count": 10,
   "metadata": {},
   "outputs": [
    {
     "name": "stdout",
     "output_type": "stream",
     "text": [
      "Exactitud en el conjunto de validación: 0.6712062256809338\n",
      "El modelo no cumple con el umbral en validación. Exactitud: 0.6712062256809338\n",
      "Exactitud en el conjunto de prueba: 0.7344559585492227\n",
      "El modelo no cumple con el umbral en prueba. Exactitud: 0.7344559585492227\n",
      "Exactitud del modelo ingenuo en el conjunto de validación: 0.6498054474708171\n",
      "Exactitud del modelo ingenuo en el conjunto de prueba: 0.7137305699481865\n"
     ]
    }
   ],
   "source": [
    "# Dividir el dataset en 60% entrenamiento, 20% validación y 20% prueba\n",
    "train_data, temp_data = train_test_split(user_behavoir, test_size=0.4, random_state=54321)\n",
    "valid_data, test_data = train_test_split(temp_data, test_size=0.6, random_state=54321)\n",
    "\n",
    "# Separar características y etiquetas\n",
    "features_train = train_data.drop(['is_ultra'], axis=1)\n",
    "target_train = train_data['is_ultra']\n",
    "features_valid = valid_data.drop(['is_ultra'], axis=1)\n",
    "target_valid = valid_data['is_ultra']\n",
    "features_test = test_data.drop(['is_ultra'], axis=1)\n",
    "target_test = test_data['is_ultra']\n",
    "\n",
    "# Entrenar el mejor modelo \n",
    "best_model = LogisticRegression(random_state = 54321, solver= 'liblinear')\n",
    "best_model.fit(features_train, target_train)\n",
    "\n",
    "# Evaluar en el conjunto de validación\n",
    "valid_score = best_model.score(features_valid, target_valid)\n",
    "print(f\"Exactitud en el conjunto de validación: {valid_score}\")\n",
    "\n",
    "# Verificar si la exactitud en validación es mayor o igual a 0.75\n",
    "if valid_score >= 0.75:\n",
    "    print(f\"El modelo cumple con el umbral de 0.75 en validación: {valid_score}\")\n",
    "else:\n",
    "    print(f\"El modelo no cumple con el umbral en validación. Exactitud: {valid_score}\")\n",
    "\n",
    "# Evaluar en el conjunto de prueba\n",
    "test_score = best_model.score(features_test, target_test)\n",
    "print(f\"Exactitud en el conjunto de prueba: {test_score}\")\n",
    "\n",
    "# Verificar si la exactitud en el conjunto de prueba es mayor o igual a 0.75\n",
    "if test_score >= 0.75:\n",
    "    print(f\"El modelo cumple con el umbral de 0.75 en prueba: {test_score}\")\n",
    "else:\n",
    "    print(f\"El modelo no cumple con el umbral en prueba. Exactitud: {test_score}\")\n",
    "\n",
    "# Crear un modelo ingenuo que predice la clase mayoritaria\n",
    "dummy_model = DummyClassifier(strategy=\"most_frequent\", random_state=54321)\n",
    "dummy_model.fit(features_train, target_train)\n",
    "\n",
    "# Evaluar el modelo en el conjunto de validación\n",
    "dummy_valid_score = dummy_model.score(features_valid, target_valid)\n",
    "print(f\"Exactitud del modelo ingenuo en el conjunto de validación: {dummy_valid_score}\")\n",
    "\n",
    "# Evaluar el modelo en el conjunto de prueba\n",
    "dummy_test_score = dummy_model.score(features_test, target_test)\n",
    "print(f\"Exactitud del modelo ingenuo en el conjunto de prueba: {dummy_test_score}\")"
   ]
  },
  {
   "cell_type": "markdown",
   "metadata": {},
   "source": [
    "# 2.3  ÁRBOL DECISIÓN "
   ]
  },
  {
   "cell_type": "code",
   "execution_count": 11,
   "metadata": {},
   "outputs": [
    {
     "name": "stdout",
     "output_type": "stream",
     "text": [
      "Exactitud en el conjunto de validación: 0.7822706065318819\n",
      "El modelo cumple con el umbral de 0.75 en validación: 0.7822706065318819\n",
      "Exactitud en el conjunto de prueba: 0.8055987558320373\n",
      "El modelo cumple con el umbral de 0.75 en prueba: 0.8055987558320373\n",
      "Exactitud del modelo ingenuo en el conjunto de validación: 0.6516329704510109\n",
      "Exactitud del modelo ingenuo en el conjunto de prueba: 0.7247278382581649\n"
     ]
    }
   ],
   "source": [
    "# Dividir el dataset en 60% entrenamiento, 20% validación y 20% prueba\n",
    "train_data, temp_data = train_test_split(user_behavoir, test_size=0.4, random_state=54321)\n",
    "valid_data, test_data = train_test_split(temp_data, test_size=0.5, random_state=54321)\n",
    "\n",
    "# Separar características y etiquetas\n",
    "features_train = train_data.drop(['is_ultra'], axis=1)\n",
    "target_train = train_data['is_ultra']\n",
    "features_valid = valid_data.drop(['is_ultra'], axis=1)\n",
    "target_valid = valid_data['is_ultra']\n",
    "features_test = test_data.drop(['is_ultra'], axis=1)\n",
    "target_test = test_data['is_ultra']\n",
    "\n",
    "# Entrenar el modelo de Árbol de Decisiones\n",
    "decision_tree_model = DecisionTreeClassifier(max_depth=10,  random_state=54321)\n",
    "\n",
    "decision_tree_model.fit(features_train, target_train)\n",
    "\n",
    "# Evaluar en el conjunto de validación\n",
    "valid_predictions = decision_tree_model.predict(features_valid)\n",
    "valid_score = accuracy_score(target_valid, valid_predictions)\n",
    "print(f\"Exactitud en el conjunto de validación: {valid_score}\")\n",
    "\n",
    "# Verificar si la exactitud en validación es mayor o igual a 0.75\n",
    "if valid_score >= 0.75:\n",
    "    print(f\"El modelo cumple con el umbral de 0.75 en validación: {valid_score}\")\n",
    "else:\n",
    "    print(f\"El modelo no cumple con el umbral en validación. Exactitud: {valid_score}\")\n",
    "\n",
    "# Evaluar en el conjunto de prueba\n",
    "test_predictions = decision_tree_model.predict(features_test)\n",
    "test_score = accuracy_score(target_test, test_predictions)\n",
    "print(f\"Exactitud en el conjunto de prueba: {test_score}\")\n",
    "\n",
    "# Verificar si la exactitud en el conjunto de prueba es mayor o igual a 0.75\n",
    "if test_score >= 0.75:\n",
    "    print(f\"El modelo cumple con el umbral de 0.75 en prueba: {test_score}\")\n",
    "else:\n",
    "    print(f\"El modelo no cumple con el umbral en prueba. Exactitud: {test_score}\")\n",
    "\n",
    "# Crear un modelo ingenuo que predice la clase mayoritaria\n",
    "dummy_model = DummyClassifier(strategy=\"most_frequent\", random_state=54321)\n",
    "dummy_model.fit(features_train, target_train)\n",
    "\n",
    "# Evaluar el modelo en el conjunto de validación\n",
    "dummy_valid_predictions = dummy_model.predict(features_valid)\n",
    "dummy_valid_score = accuracy_score(target_valid, dummy_valid_predictions)\n",
    "print(f\"Exactitud del modelo ingenuo en el conjunto de validación: {dummy_valid_score}\")\n",
    "\n",
    "# Evaluar el modelo en el conjunto de prueba\n",
    "dummy_test_predictions = dummy_model.predict(features_test)\n",
    "dummy_test_score = accuracy_score(target_test, dummy_test_predictions)\n",
    "print(f\"Exactitud del modelo ingenuo en el conjunto de prueba: {dummy_test_score}\")\n",
    "    "
   ]
  },
  {
   "cell_type": "markdown",
   "metadata": {},
   "source": [
    "# CONCLUSIÓN GENERAL \n",
    "El Bosque Aleatorio y el Árbol de Decisión tienen buenos resultados, superando el umbral del 0.75 tanto en validación como en prueba.\n",
    "El modelo de Regresión Logística no logra alcanzar ese umbral, lo que indica que no es tan eficaz para este problema en particular.\n",
    "El modelo ingenuo, que predice la clase mayoritaria, sirve como referencia y tiene un rendimiento significativamente más bajo que los modelos de Machine Learning entrenados.\n",
    "En resumen, el Bosque Aleatorio y el Árbol de Decisión son las mejores opciones, con el Bosque Aleatorio ligeramente superior en exactitud."
   ]
  },
  {
   "cell_type": "code",
   "execution_count": 13,
   "metadata": {
    "scrolled": true
   },
   "outputs": [
    {
     "name": "stdout",
     "output_type": "stream",
     "text": [
      "Predicciones del modelo entrenado: [0 1]\n",
      "Predicciones del modelo dummy: [0 0]\n",
      "Precisión del modelo entrenado en la prueba de cordura: 1.00\n",
      "Precisión del modelo dummy en la prueba de cordura: 0.50\n"
     ]
    }
   ],
   "source": [
    "import joblib\n",
    " \n",
    "# Paso 1: Cargar el modelo entrenado\n",
    "model_s9 = joblib.load('modelf_spring9.joblib')\n",
    "\n",
    "\n",
    "# Paso 2: Definir un conjunto de datos de entrada de muestra\n",
    "sample_input = np.array([[85, 516.75, 56, 22696.96],  # Muestra 1\n",
    "                         [7, 43.39, 3, 2538.67]])  # Muestra 2\n",
    "\n",
    "# Paso 3: Realizar la predicción con el modelo cargado\n",
    "sample_prediction = model_s9.predict(sample_input)\n",
    "\n",
    "# Paso 4: Mostrar el resultado de la predicción\n",
    "print(f'Predicciones del modelo entrenado: {sample_prediction}')\n",
    "\n",
    "# Paso 5: Crear el modelo dummy que siempre predice la clase mayoritaria\n",
    "dummy_model = DummyClassifier(strategy=\"most_frequent\")\n",
    "real_values = np.array([0, 1])  # Clases reales de ejemplo\n",
    "\n",
    "# Entrenar el modelo dummy con los valores reales\n",
    "dummy_model.fit(sample_input, real_values)\n",
    "\n",
    "# Realizar la predicción con el modelo dummy\n",
    "dummy_prediction = dummy_model.predict(sample_input)\n",
    "print(f'Predicciones del modelo dummy: {dummy_prediction}')\n",
    "\n",
    "# Paso 6: Calcular la precisión de ambos modelos\n",
    "accuracy_model = accuracy_score(real_values, sample_prediction)\n",
    "accuracy_dummy = accuracy_score(real_values, dummy_prediction)\n",
    "\n",
    "# Paso 7: Imprimir las precisiones\n",
    "print(f'Precisión del modelo entrenado en la prueba de cordura: {accuracy_model:.2f}')\n",
    "print(f'Precisión del modelo dummy en la prueba de cordura: {accuracy_dummy:.2f}')\n"
   ]
  },
  {
   "cell_type": "markdown",
   "metadata": {},
   "source": [
    "El modelo que se utilizo fue el bosque aleatorio para hacer la prueba de cordura. Debido a que este obtuvo mayor preccisión que los demás. \n",
    "\n",
    "Con este se puedo observar que el nivel de precisión es de **1.00** sugiere que el modelo es altamente efectivo en la clasificación de los planes de los usuarios en este conjunto de datos.\n",
    "\n",
    "En el caso del modelo dummy se obtuvo una precisión del 50%. El modelo dummy  predices la clase más frecuente, no captas bien la variabilidad del conjunto de datos.\n"
   ]
  },
  {
   "cell_type": "markdown",
   "metadata": {},
   "source": [
    "# Conclusión \n",
    "En este análisis, se evaluaron tres modelos de clasificación para predecir si un usuario pertenece a la clase \"ultra\" o no: un Bosque Aleatorio, una Regresión Logística y un Árbol de Decisión. Para cada modelo, se evaluó su rendimiento en términos de precisión utilizando un conjunto de datos dividido en 60% para entrenamiento, 20% para validación y 20% para prueba. Además, se realizó una prueba de cordura comparando el mejor modelo entrenado con un modelo dummy que siempre predice la clase mayoritaria.\n",
    "\n",
    "Para finalizar, el Bosque Aleatorio y el Árbol de Decisión fueron los modelos más efectivos, alcanzando ambos el umbral de precisión de 0.75 tanto en los conjuntos de validación como de prueba. En contraste, la Regresión Logística no logró superar el umbral, lo que indica que este modelo no es el más adecuado para este problema. Finalmente, la prueba de cordura demuestra que los modelos entrenados son significativamente más precisos que un modelo ingenuo como el dummy, lo que confirma que estos modelos captan patrones relevantes y generalizan bien a nuevos datos."
   ]
  }
 ],
 "metadata": {
  "ExecuteTimeLog": [
   {
    "duration": 776,
    "start_time": "2024-09-10T21:20:32.177Z"
   },
   {
    "duration": 559,
    "start_time": "2024-09-10T21:22:53.221Z"
   },
   {
    "duration": 16,
    "start_time": "2024-09-10T21:23:26.755Z"
   },
   {
    "duration": 27,
    "start_time": "2024-09-10T21:24:49.003Z"
   },
   {
    "duration": 8,
    "start_time": "2024-09-10T21:28:04.006Z"
   },
   {
    "duration": 760,
    "start_time": "2024-09-10T21:31:37.153Z"
   },
   {
    "duration": 7,
    "start_time": "2024-09-10T21:31:38.409Z"
   },
   {
    "duration": 25,
    "start_time": "2024-09-10T21:31:40.689Z"
   },
   {
    "duration": 9,
    "start_time": "2024-09-10T21:31:41.628Z"
   },
   {
    "duration": 5,
    "start_time": "2024-09-10T21:40:00.977Z"
   },
   {
    "duration": 213,
    "start_time": "2024-09-10T21:40:19.022Z"
   },
   {
    "duration": 13,
    "start_time": "2024-09-10T21:41:10.145Z"
   },
   {
    "duration": 784,
    "start_time": "2024-09-10T21:41:46.732Z"
   },
   {
    "duration": 8,
    "start_time": "2024-09-10T21:41:47.963Z"
   },
   {
    "duration": 25,
    "start_time": "2024-09-10T21:41:49.258Z"
   },
   {
    "duration": 8,
    "start_time": "2024-09-10T21:41:49.878Z"
   },
   {
    "duration": 5,
    "start_time": "2024-09-10T21:41:51.132Z"
   },
   {
    "duration": 214,
    "start_time": "2024-09-10T21:43:17.788Z"
   },
   {
    "duration": 13,
    "start_time": "2024-09-10T21:44:31.085Z"
   },
   {
    "duration": 781,
    "start_time": "2024-09-10T21:45:10.438Z"
   },
   {
    "duration": 8,
    "start_time": "2024-09-10T21:45:11.367Z"
   },
   {
    "duration": 26,
    "start_time": "2024-09-10T21:45:12.301Z"
   },
   {
    "duration": 8,
    "start_time": "2024-09-10T21:45:12.758Z"
   },
   {
    "duration": 6,
    "start_time": "2024-09-10T21:45:13.810Z"
   },
   {
    "duration": 212,
    "start_time": "2024-09-10T21:45:14.339Z"
   },
   {
    "duration": 757,
    "start_time": "2024-09-10T21:59:04.405Z"
   },
   {
    "duration": 8,
    "start_time": "2024-09-10T21:59:05.456Z"
   },
   {
    "duration": 26,
    "start_time": "2024-09-10T21:59:06.565Z"
   },
   {
    "duration": 8,
    "start_time": "2024-09-10T21:59:07.279Z"
   },
   {
    "duration": 4,
    "start_time": "2024-09-10T21:59:08.689Z"
   },
   {
    "duration": 4,
    "start_time": "2024-09-10T21:59:09.474Z"
   },
   {
    "duration": 212,
    "start_time": "2024-09-10T22:44:59.589Z"
   },
   {
    "duration": 13,
    "start_time": "2024-09-10T22:45:35.982Z"
   },
   {
    "duration": 3,
    "start_time": "2024-09-10T22:45:51.532Z"
   },
   {
    "duration": 5,
    "start_time": "2024-09-10T22:47:39.794Z"
   },
   {
    "duration": 862,
    "start_time": "2024-09-12T17:18:36.517Z"
   },
   {
    "duration": 15,
    "start_time": "2024-09-12T17:18:39.108Z"
   },
   {
    "duration": 26,
    "start_time": "2024-09-12T17:18:40.705Z"
   },
   {
    "duration": 8,
    "start_time": "2024-09-12T17:18:41.524Z"
   },
   {
    "duration": 5,
    "start_time": "2024-09-12T17:18:43.394Z"
   },
   {
    "duration": 5,
    "start_time": "2024-09-12T17:18:46.526Z"
   },
   {
    "duration": 4,
    "start_time": "2024-09-12T17:18:51.460Z"
   },
   {
    "duration": 5,
    "start_time": "2024-09-12T17:18:53.339Z"
   },
   {
    "duration": 22,
    "start_time": "2024-09-12T18:06:20.151Z"
   },
   {
    "duration": 128,
    "start_time": "2024-09-12T18:09:12.622Z"
   },
   {
    "duration": 1620,
    "start_time": "2024-09-12T18:09:59.151Z"
   },
   {
    "duration": 790,
    "start_time": "2024-09-12T18:12:08.450Z"
   },
   {
    "duration": 10,
    "start_time": "2024-09-12T18:12:09.694Z"
   },
   {
    "duration": 14,
    "start_time": "2024-09-12T18:12:11.722Z"
   },
   {
    "duration": 5,
    "start_time": "2024-09-12T18:12:14.937Z"
   },
   {
    "duration": 5,
    "start_time": "2024-09-12T18:12:15.766Z"
   },
   {
    "duration": 4,
    "start_time": "2024-09-12T18:12:17.797Z"
   },
   {
    "duration": 4,
    "start_time": "2024-09-12T18:12:20.125Z"
   },
   {
    "duration": 1644,
    "start_time": "2024-09-12T18:12:22.873Z"
   },
   {
    "duration": 223,
    "start_time": "2024-09-12T18:27:48.580Z"
   },
   {
    "duration": 16,
    "start_time": "2024-09-12T18:28:26.386Z"
   },
   {
    "duration": 807,
    "start_time": "2024-09-12T18:36:12.537Z"
   },
   {
    "duration": 10,
    "start_time": "2024-09-12T18:36:13.710Z"
   },
   {
    "duration": 26,
    "start_time": "2024-09-12T18:36:23.645Z"
   },
   {
    "duration": 9,
    "start_time": "2024-09-12T18:36:26.305Z"
   },
   {
    "duration": 5,
    "start_time": "2024-09-12T18:36:27.455Z"
   },
   {
    "duration": 4,
    "start_time": "2024-09-12T18:36:28.262Z"
   },
   {
    "duration": 3,
    "start_time": "2024-09-12T18:36:30.074Z"
   },
   {
    "duration": 5,
    "start_time": "2024-09-12T18:36:30.685Z"
   },
   {
    "duration": 1614,
    "start_time": "2024-09-12T18:36:32.616Z"
   },
   {
    "duration": 12,
    "start_time": "2024-09-12T18:36:37.714Z"
   },
   {
    "duration": 1620,
    "start_time": "2024-09-12T19:10:50.462Z"
   },
   {
    "duration": 12,
    "start_time": "2024-09-12T19:10:59.673Z"
   },
   {
    "duration": 7,
    "start_time": "2024-09-12T19:18:16.769Z"
   },
   {
    "duration": 258,
    "start_time": "2024-09-12T19:18:24.826Z"
   },
   {
    "duration": 4,
    "start_time": "2024-09-12T19:19:00.734Z"
   },
   {
    "duration": 588,
    "start_time": "2024-09-12T19:25:33.731Z"
   },
   {
    "duration": 573,
    "start_time": "2024-09-12T19:26:56.142Z"
   },
   {
    "duration": 137,
    "start_time": "2024-09-12T19:30:20.363Z"
   },
   {
    "duration": 135,
    "start_time": "2024-09-12T19:32:39.984Z"
   },
   {
    "duration": 1637,
    "start_time": "2024-09-12T19:36:49.969Z"
   },
   {
    "duration": 836,
    "start_time": "2024-09-17T13:56:41.882Z"
   },
   {
    "duration": 18,
    "start_time": "2024-09-17T13:56:42.927Z"
   },
   {
    "duration": 15,
    "start_time": "2024-09-17T13:56:50.885Z"
   },
   {
    "duration": 273,
    "start_time": "2024-09-17T14:00:11.465Z"
   },
   {
    "duration": 2465,
    "start_time": "2024-09-17T14:00:31.699Z"
   },
   {
    "duration": 103,
    "start_time": "2024-09-17T14:00:36.761Z"
   },
   {
    "duration": 1774,
    "start_time": "2024-09-17T14:03:18.663Z"
   },
   {
    "duration": 1796,
    "start_time": "2024-09-17T14:19:03.316Z"
   },
   {
    "duration": 1628,
    "start_time": "2024-09-17T14:28:40.580Z"
   },
   {
    "duration": 38,
    "start_time": "2024-09-17T14:34:19.440Z"
   },
   {
    "duration": 142,
    "start_time": "2024-09-17T14:56:17.576Z"
   },
   {
    "duration": 128,
    "start_time": "2024-09-17T15:00:12.633Z"
   },
   {
    "duration": 146,
    "start_time": "2024-09-17T15:03:48.850Z"
   },
   {
    "duration": 1755,
    "start_time": "2024-09-17T15:04:01.252Z"
   },
   {
    "duration": 116,
    "start_time": "2024-09-17T15:14:34.596Z"
   },
   {
    "duration": 39,
    "start_time": "2024-09-17T15:20:12.427Z"
   },
   {
    "duration": 1113,
    "start_time": "2024-09-17T15:20:52.580Z"
   },
   {
    "duration": 14,
    "start_time": "2024-09-17T15:20:53.966Z"
   },
   {
    "duration": 24,
    "start_time": "2024-09-17T15:20:55.186Z"
   },
   {
    "duration": 16,
    "start_time": "2024-09-17T15:20:55.840Z"
   },
   {
    "duration": 111,
    "start_time": "2024-09-17T15:20:57.086Z"
   },
   {
    "duration": 1823,
    "start_time": "2024-09-17T15:20:58.431Z"
   },
   {
    "duration": 5,
    "start_time": "2024-09-17T15:21:00.480Z"
   },
   {
    "duration": 4,
    "start_time": "2024-09-17T15:21:01.193Z"
   },
   {
    "duration": 1889,
    "start_time": "2024-09-17T15:21:04.247Z"
   },
   {
    "duration": 37,
    "start_time": "2024-09-17T15:21:09.446Z"
   },
   {
    "duration": 116,
    "start_time": "2024-09-17T15:21:11.601Z"
   },
   {
    "duration": 293,
    "start_time": "2024-09-17T15:21:13.705Z"
   },
   {
    "duration": 51,
    "start_time": "2024-09-17T15:21:26.843Z"
   },
   {
    "duration": 158,
    "start_time": "2024-09-17T16:59:40.223Z"
   },
   {
    "duration": 2693,
    "start_time": "2024-09-17T16:59:50.193Z"
   },
   {
    "duration": 14,
    "start_time": "2024-09-17T16:59:52.888Z"
   },
   {
    "duration": 26,
    "start_time": "2024-09-17T16:59:54.062Z"
   },
   {
    "duration": 14,
    "start_time": "2024-09-17T16:59:55.009Z"
   },
   {
    "duration": 88,
    "start_time": "2024-09-17T16:59:56.208Z"
   },
   {
    "duration": 1759,
    "start_time": "2024-09-17T16:59:57.516Z"
   },
   {
    "duration": 5,
    "start_time": "2024-09-17T17:00:01.582Z"
   },
   {
    "duration": 5,
    "start_time": "2024-09-17T17:00:02.491Z"
   },
   {
    "duration": 1585,
    "start_time": "2024-09-17T17:00:06.503Z"
   },
   {
    "duration": 16,
    "start_time": "2024-09-17T17:00:12.106Z"
   },
   {
    "duration": 106,
    "start_time": "2024-09-17T17:00:13.852Z"
   },
   {
    "duration": 7,
    "start_time": "2024-09-17T17:01:03.221Z"
   },
   {
    "duration": 4,
    "start_time": "2024-09-17T17:01:11.289Z"
   },
   {
    "duration": 446,
    "start_time": "2024-09-17T17:01:12.408Z"
   },
   {
    "duration": 53,
    "start_time": "2024-09-17T17:01:19.661Z"
   },
   {
    "duration": 23,
    "start_time": "2024-09-17T17:01:20.626Z"
   },
   {
    "duration": 15,
    "start_time": "2024-09-17T17:01:22.899Z"
   },
   {
    "duration": 2689,
    "start_time": "2024-09-17T17:59:33.908Z"
   },
   {
    "duration": 14,
    "start_time": "2024-09-17T17:59:37.917Z"
   },
   {
    "duration": 25,
    "start_time": "2024-09-17T17:59:40.039Z"
   },
   {
    "duration": 12,
    "start_time": "2024-09-17T17:59:40.708Z"
   },
   {
    "duration": 90,
    "start_time": "2024-09-17T17:59:41.936Z"
   },
   {
    "duration": 1814,
    "start_time": "2024-09-17T17:59:43.151Z"
   },
   {
    "duration": 5,
    "start_time": "2024-09-17T17:59:48.737Z"
   },
   {
    "duration": 4,
    "start_time": "2024-09-17T17:59:49.317Z"
   },
   {
    "duration": 1599,
    "start_time": "2024-09-17T17:59:51.813Z"
   },
   {
    "duration": 30,
    "start_time": "2024-09-17T17:59:54.121Z"
   },
   {
    "duration": 111,
    "start_time": "2024-09-17T17:59:56.130Z"
   },
   {
    "duration": 122,
    "start_time": "2024-09-17T18:00:01.719Z"
   },
   {
    "duration": 23,
    "start_time": "2024-09-17T18:00:05.908Z"
   },
   {
    "duration": 312,
    "start_time": "2024-09-17T18:00:10.904Z"
   },
   {
    "duration": 7,
    "start_time": "2024-09-17T18:00:31.473Z"
   },
   {
    "duration": 119,
    "start_time": "2024-09-17T18:02:58.105Z"
   },
   {
    "duration": 8,
    "start_time": "2024-09-17T18:03:24.451Z"
   },
   {
    "duration": 37,
    "start_time": "2024-09-17T18:04:06.872Z"
   },
   {
    "duration": 7,
    "start_time": "2024-09-17T18:08:30.190Z"
   },
   {
    "duration": 2828,
    "start_time": "2024-09-18T14:58:54.239Z"
   },
   {
    "duration": 11,
    "start_time": "2024-09-18T14:59:00.005Z"
   },
   {
    "duration": 25,
    "start_time": "2024-09-18T14:59:01.320Z"
   },
   {
    "duration": 12,
    "start_time": "2024-09-18T14:59:01.833Z"
   },
   {
    "duration": 89,
    "start_time": "2024-09-18T14:59:02.967Z"
   },
   {
    "duration": 1730,
    "start_time": "2024-09-18T14:59:04.184Z"
   },
   {
    "duration": 5,
    "start_time": "2024-09-18T14:59:06.450Z"
   },
   {
    "duration": 5,
    "start_time": "2024-09-18T14:59:07.110Z"
   },
   {
    "duration": 1572,
    "start_time": "2024-09-18T14:59:12.157Z"
   },
   {
    "duration": 16,
    "start_time": "2024-09-18T14:59:13.947Z"
   },
   {
    "duration": 110,
    "start_time": "2024-09-18T14:59:18.036Z"
   },
   {
    "duration": 4,
    "start_time": "2024-09-18T14:59:53.018Z"
   },
   {
    "duration": 1954,
    "start_time": "2024-09-18T15:04:08.303Z"
   },
   {
    "duration": 2878,
    "start_time": "2024-09-18T15:07:40.920Z"
   },
   {
    "duration": 2925,
    "start_time": "2024-09-18T15:10:32.116Z"
   },
   {
    "duration": 149,
    "start_time": "2024-09-18T15:22:30.132Z"
   },
   {
    "duration": 17,
    "start_time": "2024-09-18T15:26:30.465Z"
   },
   {
    "duration": 23,
    "start_time": "2024-09-18T15:35:38.219Z"
   },
   {
    "duration": 21,
    "start_time": "2024-09-18T15:38:42.266Z"
   },
   {
    "duration": 21,
    "start_time": "2024-09-18T15:39:07.752Z"
   },
   {
    "duration": 83,
    "start_time": "2024-09-18T15:42:41.644Z"
   },
   {
    "duration": 5,
    "start_time": "2024-09-18T15:46:24.494Z"
   },
   {
    "duration": 70,
    "start_time": "2024-09-18T15:46:32.481Z"
   },
   {
    "duration": 30,
    "start_time": "2024-09-18T15:46:33.727Z"
   },
   {
    "duration": 9,
    "start_time": "2024-09-18T15:46:34.708Z"
   },
   {
    "duration": 2640,
    "start_time": "2024-09-22T14:51:27.918Z"
   },
   {
    "duration": 16,
    "start_time": "2024-09-22T14:51:30.560Z"
   },
   {
    "duration": 24,
    "start_time": "2024-09-22T14:51:30.577Z"
   },
   {
    "duration": 10,
    "start_time": "2024-09-22T14:51:30.603Z"
   },
   {
    "duration": 161,
    "start_time": "2024-09-22T14:51:30.615Z"
   },
   {
    "duration": 1672,
    "start_time": "2024-09-22T14:51:30.777Z"
   },
   {
    "duration": 4,
    "start_time": "2024-09-22T14:51:32.451Z"
   },
   {
    "duration": 5,
    "start_time": "2024-09-22T14:51:32.457Z"
   },
   {
    "duration": 161,
    "start_time": "2024-09-22T14:51:32.465Z"
   },
   {
    "duration": 21,
    "start_time": "2024-09-22T14:51:32.628Z"
   },
   {
    "duration": 24,
    "start_time": "2024-09-22T14:51:32.954Z"
   },
   {
    "duration": 302,
    "start_time": "2024-09-22T14:51:34.132Z"
   },
   {
    "duration": 39,
    "start_time": "2024-09-22T14:52:21.801Z"
   }
  ],
  "kernelspec": {
   "display_name": "Python 3 (ipykernel)",
   "language": "python",
   "name": "python3"
  },
  "language_info": {
   "codemirror_mode": {
    "name": "ipython",
    "version": 3
   },
   "file_extension": ".py",
   "mimetype": "text/x-python",
   "name": "python",
   "nbconvert_exporter": "python",
   "pygments_lexer": "ipython3",
   "version": "3.9.19"
  },
  "toc": {
   "base_numbering": 1,
   "nav_menu": {},
   "number_sections": true,
   "sideBar": true,
   "skip_h1_title": true,
   "title_cell": "Table of Contents",
   "title_sidebar": "Contents",
   "toc_cell": false,
   "toc_position": {},
   "toc_section_display": true,
   "toc_window_display": false
  }
 },
 "nbformat": 4,
 "nbformat_minor": 2
}
